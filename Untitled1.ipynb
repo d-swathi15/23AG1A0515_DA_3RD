{
  "nbformat": 4,
  "nbformat_minor": 0,
  "metadata": {
    "colab": {
      "provenance": []
    },
    "kernelspec": {
      "name": "python3",
      "display_name": "Python 3"
    },
    "language_info": {
      "name": "python"
    }
  },
  "cells": [
    {
      "cell_type": "code",
      "execution_count": 2,
      "metadata": {
        "id": "ztqbUbsrcQoA"
      },
      "outputs": [],
      "source": [
        "import pandas as pd\n",
        "\n",
        "data = {\n",
        "    \"product_001\": {\n",
        "        \"reviews\": {\n",
        "            \"text\": [\"Excellent!\", \"Love it\", \"High quality\", \"Very durable\", \"Best purchase\", \"Fast shipping\", \"Highly recommend\"],\n",
        "            \"rating\": 4.6,\n",
        "            \"clicks\": 310,\n",
        "            \"purchases\": 50,\n",
        "            \"quantity_available\": 120,\n",
        "            \"views\": 980,\n",
        "            \"number_of_reviews\": 7\n",
        "        }\n",
        "    },\n",
        "    \"product_002\": {\n",
        "        \"reviews\": {\n",
        "            \"text\": [\"Bad quality\", \"Poor design\", \"Not worth it\", \"Too expensive\", \"Looks cheap\"],\n",
        "            \"rating\": 2.1,\n",
        "            \"clicks\": 95,\n",
        "            \"purchases\": 8,\n",
        "            \"quantity_available\": 60,\n",
        "            \"views\": 300,\n",
        "            \"number_of_reviews\": 5\n",
        "        }\n",
        "    },\n",
        "    \"product_003\": {\n",
        "        \"reviews\": {\n",
        "            \"text\": [\"Awesome!\", \"Perfect for gift\", \"Exactly as described\", \"Loved the packaging\", \"Premium feel\", \"Great support\"],\n",
        "            \"rating\": 4.7,\n",
        "            \"clicks\": 280,\n",
        "            \"purchases\": 55,\n",
        "            \"quantity_available\": 90,\n",
        "            \"views\": 1100,\n",
        "            \"number_of_reviews\": 6\n",
        "        }\n",
        "    },\n",
        "    \"product_004\": {\n",
        "        \"reviews\": {\n",
        "            \"text\": [\"Not as expected\", \"Does the job\", \"Okay\", \"Meh\", \"Could be better\", \"Arrived late\", \"Average performance\", \"Build quality is poor\"],\n",
        "            \"rating\": 3.0,\n",
        "            \"clicks\": 150,\n",
        "            \"purchases\": 20,\n",
        "            \"quantity_available\": 150,\n",
        "            \"views\": 600,\n",
        "            \"number_of_reviews\": 8\n",
        "        }\n",
        "    },\n",
        "    \"product_005\": {\n",
        "        \"reviews\": {\n",
        "            \"text\": [\"Fantastic!\", \"Must buy\", \"Very comfortable\", \"Soft material\", \"Will order again\", \"Nice colors\"],\n",
        "            \"rating\": 4.8,\n",
        "            \"clicks\": 360,\n",
        "            \"purchases\": 65,\n",
        "            \"quantity_available\": 100,\n",
        "            \"views\": 1250,\n",
        "            \"number_of_reviews\": 6\n",
        "        }\n",
        "    },\n",
        "    \"product_006\": {\n",
        "        \"reviews\": {\n",
        "            \"text\": [\"Flimsy\", \"Doesn't last\", \"Wears out quickly\", \"Not recommended\", \"Cheap material\", \"Too small\", \"Bad value\"],\n",
        "            \"rating\": 2.3,\n",
        "            \"clicks\": 110,\n",
        "            \"purchases\": 12,\n",
        "            \"quantity_available\": 130,\n",
        "            \"views\": 420,\n",
        "            \"number_of_reviews\": 7\n",
        "        }\n",
        "    },\n",
        "    \"product_007\": {\n",
        "        \"reviews\": {\n",
        "            \"text\": [\"Great for kids\", \"Easy to use\", \"Nice design\", \"Vibrant colors\", \"Good size\", \"Educational\", \"Safe material\", \"Well packaged\", \"Fun to play with\"],\n",
        "            \"rating\": 4.5,\n",
        "            \"clicks\": 400,\n",
        "            \"purchases\": 80,\n",
        "            \"quantity_available\": 70,\n",
        "            \"views\": 1500,\n",
        "            \"number_of_reviews\": 9\n",
        "        }\n",
        "    },\n",
        "    \"product_008\": {\n",
        "        \"reviews\": {\n",
        "            \"text\": [\"Heavy\", \"Sturdy\", \"Solid build\", \"Perfect height\", \"Very stable\"],\n",
        "            \"rating\": 4.2,\n",
        "            \"clicks\": 260,\n",
        "            \"purchases\": 45,\n",
        "            \"quantity_available\": 95,\n",
        "            \"views\": 840,\n",
        "            \"number_of_reviews\": 5\n",
        "        }\n",
        "    },\n",
        "    \"product_009\": {\n",
        "        \"reviews\": {\n",
        "            \"text\": [\"Looks good\", \"Charges fast\", \"Works with all devices\", \"Sleek finish\", \"Compact size\", \"Value for money\", \"Long-lasting\"],\n",
        "            \"rating\": 4.4,\n",
        "            \"clicks\": 290,\n",
        "            \"purchases\": 52,\n",
        "            \"quantity_available\": 88,\n",
        "            \"views\": 960,\n",
        "            \"number_of_reviews\": 7\n",
        "        }\n",
        "    },\n",
        "    \"product_010\": {\n",
        "        \"reviews\": {\n",
        "            \"text\": [\"Affordable\", \"Good sound\", \"Lightweight\", \"Comfortable fit\", \"Battery lasts long\", \"Mic quality is good\", \"Looks stylish\", \"Pairs easily\"],\n",
        "            \"rating\": 4.3,\n",
        "            \"clicks\": 310,\n",
        "            \"purchases\": 60,\n",
        "            \"quantity_available\": 110,\n",
        "            \"views\": 1030,\n",
        "            \"number_of_reviews\": 8\n",
        "        }\n",
        "    }\n",
        "}"
      ]
    },
    {
      "cell_type": "code",
      "source": [
        "records = []\n",
        "\n",
        "for product_id, details in data.items():\n",
        "    reviews = details['reviews']\n",
        "    records.append({\n",
        "        \"product_id\": product_id,\n",
        "        \"No. of reviews\": reviews[\"number_of_reviews\"],\n",
        "        \"clicks\": reviews[\"clicks\"],\n",
        "        \"purchases\": reviews[\"purchases\"],\n",
        "        \"quantity_available\": reviews[\"quantity_available\"],\n",
        "        \"views\": reviews[\"views\"]\n",
        "    })\n",
        "\n",
        "df = pd.DataFrame(records)"
      ],
      "metadata": {
        "id": "bYI1uBVDcj7M"
      },
      "execution_count": 3,
      "outputs": []
    },
    {
      "cell_type": "code",
      "source": [
        "print(df)"
      ],
      "metadata": {
        "colab": {
          "base_uri": "https://localhost:8080/"
        },
        "id": "vBxbnvEZcwkN",
        "outputId": "43ebe502-289d-4816-cbc1-f6e02bff7a05"
      },
      "execution_count": 4,
      "outputs": [
        {
          "output_type": "stream",
          "name": "stdout",
          "text": [
            "    product_id  No. of reviews  clicks  purchases  quantity_available  views\n",
            "0  product_001               7     310         50                 120    980\n",
            "1  product_002               5      95          8                  60    300\n",
            "2  product_003               6     280         55                  90   1100\n",
            "3  product_004               8     150         20                 150    600\n",
            "4  product_005               6     360         65                 100   1250\n",
            "5  product_006               7     110         12                 130    420\n",
            "6  product_007               9     400         80                  70   1500\n",
            "7  product_008               5     260         45                  95    840\n",
            "8  product_009               7     290         52                  88    960\n",
            "9  product_010               8     310         60                 110   1030\n"
          ]
        }
      ]
    }
  ]
}